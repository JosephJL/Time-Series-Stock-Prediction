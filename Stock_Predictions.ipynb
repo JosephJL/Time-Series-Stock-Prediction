{
 "cells": [
  {
   "cell_type": "markdown",
   "id": "379114f7",
   "metadata": {},
   "source": [
    "In this project we want to see if we can use time series data to predict stock prices using the linear regression machine learning model. "
   ]
  },
  {
   "cell_type": "code",
   "execution_count": null,
   "id": "95b0455c",
   "metadata": {},
   "outputs": [],
   "source": [
    "Read the data into a csv, we'll read the Date in as a datetime64 using the parse_dates function."
   ]
  },
  {
   "cell_type": "code",
   "execution_count": 1,
   "id": "e44a02d2",
   "metadata": {},
   "outputs": [],
   "source": [
    "import numpy as np \n",
    "import pandas as pd \n",
    "import matplotlib.pyplot as plt\n",
    "from pandas.plotting import lag_plot\n",
    "\n",
    "\n",
    "aapl_data = pd.read_csv('./data/AAPL.csv', parse_dates=[0] )\n",
    "amrs_data = pd.read_csv('./data/AMRS.csv', parse_dates=[0] )"
   ]
  },
  {
   "cell_type": "markdown",
   "id": "81949a15",
   "metadata": {},
   "source": [
    "First we'll scan the data with .info and .head()"
   ]
  },
  {
   "cell_type": "code",
   "execution_count": 2,
   "id": "72c88def",
   "metadata": {},
   "outputs": [
    {
     "data": {
      "text/html": [
       "<div>\n",
       "<style scoped>\n",
       "    .dataframe tbody tr th:only-of-type {\n",
       "        vertical-align: middle;\n",
       "    }\n",
       "\n",
       "    .dataframe tbody tr th {\n",
       "        vertical-align: top;\n",
       "    }\n",
       "\n",
       "    .dataframe thead th {\n",
       "        text-align: right;\n",
       "    }\n",
       "</style>\n",
       "<table border=\"1\" class=\"dataframe\">\n",
       "  <thead>\n",
       "    <tr style=\"text-align: right;\">\n",
       "      <th></th>\n",
       "      <th>Date</th>\n",
       "      <th>Open</th>\n",
       "      <th>High</th>\n",
       "      <th>Low</th>\n",
       "      <th>Close</th>\n",
       "      <th>Adj Close</th>\n",
       "      <th>Volume</th>\n",
       "    </tr>\n",
       "  </thead>\n",
       "  <tbody>\n",
       "    <tr>\n",
       "      <th>0</th>\n",
       "      <td>2010-12-21</td>\n",
       "      <td>11.535714</td>\n",
       "      <td>11.585357</td>\n",
       "      <td>11.501786</td>\n",
       "      <td>11.578571</td>\n",
       "      <td>9.927061</td>\n",
       "      <td>256354000</td>\n",
       "    </tr>\n",
       "    <tr>\n",
       "      <th>1</th>\n",
       "      <td>2010-12-22</td>\n",
       "      <td>11.584286</td>\n",
       "      <td>11.632857</td>\n",
       "      <td>11.555357</td>\n",
       "      <td>11.612857</td>\n",
       "      <td>9.956459</td>\n",
       "      <td>265921600</td>\n",
       "    </tr>\n",
       "    <tr>\n",
       "      <th>2</th>\n",
       "      <td>2010-12-23</td>\n",
       "      <td>11.607143</td>\n",
       "      <td>11.612500</td>\n",
       "      <td>11.541786</td>\n",
       "      <td>11.557143</td>\n",
       "      <td>9.908693</td>\n",
       "      <td>223157200</td>\n",
       "    </tr>\n",
       "    <tr>\n",
       "      <th>3</th>\n",
       "      <td>2010-12-27</td>\n",
       "      <td>11.530357</td>\n",
       "      <td>11.622857</td>\n",
       "      <td>11.482857</td>\n",
       "      <td>11.595714</td>\n",
       "      <td>9.941760</td>\n",
       "      <td>249816000</td>\n",
       "    </tr>\n",
       "    <tr>\n",
       "      <th>4</th>\n",
       "      <td>2010-12-28</td>\n",
       "      <td>11.639643</td>\n",
       "      <td>11.666429</td>\n",
       "      <td>11.609286</td>\n",
       "      <td>11.623929</td>\n",
       "      <td>9.965950</td>\n",
       "      <td>175924000</td>\n",
       "    </tr>\n",
       "  </tbody>\n",
       "</table>\n",
       "</div>"
      ],
      "text/plain": [
       "        Date       Open       High        Low      Close  Adj Close     Volume\n",
       "0 2010-12-21  11.535714  11.585357  11.501786  11.578571   9.927061  256354000\n",
       "1 2010-12-22  11.584286  11.632857  11.555357  11.612857   9.956459  265921600\n",
       "2 2010-12-23  11.607143  11.612500  11.541786  11.557143   9.908693  223157200\n",
       "3 2010-12-27  11.530357  11.622857  11.482857  11.595714   9.941760  249816000\n",
       "4 2010-12-28  11.639643  11.666429  11.609286  11.623929   9.965950  175924000"
      ]
     },
     "execution_count": 2,
     "metadata": {},
     "output_type": "execute_result"
    }
   ],
   "source": [
    "aapl_data.head()"
   ]
  },
  {
   "cell_type": "code",
   "execution_count": 3,
   "id": "babf5f83",
   "metadata": {},
   "outputs": [
    {
     "data": {
      "text/html": [
       "<div>\n",
       "<style scoped>\n",
       "    .dataframe tbody tr th:only-of-type {\n",
       "        vertical-align: middle;\n",
       "    }\n",
       "\n",
       "    .dataframe tbody tr th {\n",
       "        vertical-align: top;\n",
       "    }\n",
       "\n",
       "    .dataframe thead th {\n",
       "        text-align: right;\n",
       "    }\n",
       "</style>\n",
       "<table border=\"1\" class=\"dataframe\">\n",
       "  <thead>\n",
       "    <tr style=\"text-align: right;\">\n",
       "      <th></th>\n",
       "      <th>count</th>\n",
       "      <th>mean</th>\n",
       "      <th>std</th>\n",
       "      <th>min</th>\n",
       "      <th>25%</th>\n",
       "      <th>50%</th>\n",
       "      <th>75%</th>\n",
       "      <th>max</th>\n",
       "    </tr>\n",
       "  </thead>\n",
       "  <tbody>\n",
       "    <tr>\n",
       "      <th>Open</th>\n",
       "      <td>2769.0</td>\n",
       "      <td>4.526155e+01</td>\n",
       "      <td>3.770722e+01</td>\n",
       "      <td>1.131000e+01</td>\n",
       "      <td>2.041429e+01</td>\n",
       "      <td>2.963750e+01</td>\n",
       "      <td>5.078000e+01</td>\n",
       "      <td>1.811200e+02</td>\n",
       "    </tr>\n",
       "    <tr>\n",
       "      <th>High</th>\n",
       "      <td>2769.0</td>\n",
       "      <td>4.573402e+01</td>\n",
       "      <td>3.816040e+01</td>\n",
       "      <td>1.134643e+01</td>\n",
       "      <td>2.054071e+01</td>\n",
       "      <td>2.985750e+01</td>\n",
       "      <td>5.118000e+01</td>\n",
       "      <td>1.821300e+02</td>\n",
       "    </tr>\n",
       "    <tr>\n",
       "      <th>Low</th>\n",
       "      <td>2769.0</td>\n",
       "      <td>4.479763e+01</td>\n",
       "      <td>3.727204e+01</td>\n",
       "      <td>1.108929e+01</td>\n",
       "      <td>2.022893e+01</td>\n",
       "      <td>2.943750e+01</td>\n",
       "      <td>5.039000e+01</td>\n",
       "      <td>1.755300e+02</td>\n",
       "    </tr>\n",
       "    <tr>\n",
       "      <th>Close</th>\n",
       "      <td>2769.0</td>\n",
       "      <td>4.528484e+01</td>\n",
       "      <td>3.773908e+01</td>\n",
       "      <td>1.126143e+01</td>\n",
       "      <td>2.041071e+01</td>\n",
       "      <td>2.973250e+01</td>\n",
       "      <td>5.078250e+01</td>\n",
       "      <td>1.794500e+02</td>\n",
       "    </tr>\n",
       "    <tr>\n",
       "      <th>Adj Close</th>\n",
       "      <td>2769.0</td>\n",
       "      <td>4.351186e+01</td>\n",
       "      <td>3.832338e+01</td>\n",
       "      <td>9.655157e+00</td>\n",
       "      <td>1.769019e+01</td>\n",
       "      <td>2.746896e+01</td>\n",
       "      <td>4.962371e+01</td>\n",
       "      <td>1.794500e+02</td>\n",
       "    </tr>\n",
       "    <tr>\n",
       "      <th>Volume</th>\n",
       "      <td>2769.0</td>\n",
       "      <td>2.407074e+08</td>\n",
       "      <td>1.968075e+08</td>\n",
       "      <td>4.100000e+07</td>\n",
       "      <td>1.064216e+08</td>\n",
       "      <td>1.674600e+08</td>\n",
       "      <td>3.132500e+08</td>\n",
       "      <td>1.880998e+09</td>\n",
       "    </tr>\n",
       "  </tbody>\n",
       "</table>\n",
       "</div>"
      ],
      "text/plain": [
       "            count          mean           std           min           25%  \\\n",
       "Open       2769.0  4.526155e+01  3.770722e+01  1.131000e+01  2.041429e+01   \n",
       "High       2769.0  4.573402e+01  3.816040e+01  1.134643e+01  2.054071e+01   \n",
       "Low        2769.0  4.479763e+01  3.727204e+01  1.108929e+01  2.022893e+01   \n",
       "Close      2769.0  4.528484e+01  3.773908e+01  1.126143e+01  2.041071e+01   \n",
       "Adj Close  2769.0  4.351186e+01  3.832338e+01  9.655157e+00  1.769019e+01   \n",
       "Volume     2769.0  2.407074e+08  1.968075e+08  4.100000e+07  1.064216e+08   \n",
       "\n",
       "                    50%           75%           max  \n",
       "Open       2.963750e+01  5.078000e+01  1.811200e+02  \n",
       "High       2.985750e+01  5.118000e+01  1.821300e+02  \n",
       "Low        2.943750e+01  5.039000e+01  1.755300e+02  \n",
       "Close      2.973250e+01  5.078250e+01  1.794500e+02  \n",
       "Adj Close  2.746896e+01  4.962371e+01  1.794500e+02  \n",
       "Volume     1.674600e+08  3.132500e+08  1.880998e+09  "
      ]
     },
     "execution_count": 3,
     "metadata": {},
     "output_type": "execute_result"
    }
   ],
   "source": [
    "aapl_data.describe().T"
   ]
  },
  {
   "cell_type": "markdown",
   "id": "c931856d",
   "metadata": {},
   "source": [
    "Since we want to predict the stock price, we'll use the close value as the prediction target."
   ]
  },
  {
   "cell_type": "code",
   "execution_count": 4,
   "id": "1db95b65",
   "metadata": {},
   "outputs": [],
   "source": [
    "aapl_data = aapl_data.sort_index(ascending=True, axis=0)\n",
    "new_aapl_df = pd.DataFrame(index=range(0,len(aapl_data)),columns=['Date', 'Close'])\n",
    "\n",
    "for i in range(0,len(aapl_data)):\n",
    "     new_aapl_df['Date'][i] = aapl_data['Date'][i]\n",
    "     new_aapl_df['Close'][i] = aapl_data['Close'][i]\n"
   ]
  },
  {
   "cell_type": "code",
   "execution_count": 5,
   "id": "8d169ab4",
   "metadata": {},
   "outputs": [],
   "source": [
    "new_aapl_df['Date'] = pd.to_datetime(new_aapl_df['Date'])"
   ]
  },
  {
   "cell_type": "markdown",
   "id": "1aea7529",
   "metadata": {},
   "source": [
    "Some feature engineering to predict the trend in stock prices"
   ]
  },
  {
   "cell_type": "code",
   "execution_count": 6,
   "id": "39cd192f",
   "metadata": {},
   "outputs": [
    {
     "name": "stderr",
     "output_type": "stream",
     "text": [
      "<ipython-input-6-44e6ac75c9f9>:3: FutureWarning: Series.dt.weekofyear and Series.dt.week have been deprecated.  Please use Series.dt.isocalendar().week instead.\n",
      "  new_aapl_df['week'] = new_aapl_df['Date'].dt.week\n"
     ]
    }
   ],
   "source": [
    "new_aapl_df['year'] = new_aapl_df['Date'].dt.year\n",
    "new_aapl_df['month'] = new_aapl_df['Date'].dt.month\n",
    "new_aapl_df['week'] = new_aapl_df['Date'].dt.week\n",
    "new_aapl_df['day'] = new_aapl_df['Date'].dt.day\n",
    "new_aapl_df['dayofweek'] = new_aapl_df['Date'].dt.dayofweek"
   ]
  },
  {
   "cell_type": "code",
   "execution_count": 7,
   "id": "ab6cbe3a",
   "metadata": {},
   "outputs": [
    {
     "name": "stderr",
     "output_type": "stream",
     "text": [
      "<ipython-input-7-5f3afb6d88e1>:6: SettingWithCopyWarning: \n",
      "A value is trying to be set on a copy of a slice from a DataFrame\n",
      "\n",
      "See the caveats in the documentation: https://pandas.pydata.org/pandas-docs/stable/user_guide/indexing.html#returning-a-view-versus-a-copy\n",
      "  new_aapl_df['mon_fri'][i] = 0\n",
      "<ipython-input-7-5f3afb6d88e1>:4: SettingWithCopyWarning: \n",
      "A value is trying to be set on a copy of a slice from a DataFrame\n",
      "\n",
      "See the caveats in the documentation: https://pandas.pydata.org/pandas-docs/stable/user_guide/indexing.html#returning-a-view-versus-a-copy\n",
      "  new_aapl_df['mon_fri'][i] = 1\n"
     ]
    }
   ],
   "source": [
    "new_aapl_df['mon_fri'] = 0\n",
    "for i in range(0,len(new_aapl_df)):\n",
    "    if (new_aapl_df['dayofweek'][i] == 0 or new_aapl_df['dayofweek'][i] == 4):\n",
    "        new_aapl_df['mon_fri'][i] = 1\n",
    "    else:\n",
    "        new_aapl_df['mon_fri'][i] = 0"
   ]
  },
  {
   "cell_type": "code",
   "execution_count": 8,
   "id": "3d8c29ac",
   "metadata": {},
   "outputs": [
    {
     "data": {
      "text/html": [
       "<div>\n",
       "<style scoped>\n",
       "    .dataframe tbody tr th:only-of-type {\n",
       "        vertical-align: middle;\n",
       "    }\n",
       "\n",
       "    .dataframe tbody tr th {\n",
       "        vertical-align: top;\n",
       "    }\n",
       "\n",
       "    .dataframe thead th {\n",
       "        text-align: right;\n",
       "    }\n",
       "</style>\n",
       "<table border=\"1\" class=\"dataframe\">\n",
       "  <thead>\n",
       "    <tr style=\"text-align: right;\">\n",
       "      <th></th>\n",
       "      <th>Date</th>\n",
       "      <th>Close</th>\n",
       "      <th>year</th>\n",
       "      <th>month</th>\n",
       "      <th>week</th>\n",
       "      <th>day</th>\n",
       "      <th>dayofweek</th>\n",
       "      <th>mon_fri</th>\n",
       "    </tr>\n",
       "  </thead>\n",
       "  <tbody>\n",
       "    <tr>\n",
       "      <th>0</th>\n",
       "      <td>2010-12-21</td>\n",
       "      <td>11.578571</td>\n",
       "      <td>2010</td>\n",
       "      <td>12</td>\n",
       "      <td>51</td>\n",
       "      <td>21</td>\n",
       "      <td>1</td>\n",
       "      <td>0</td>\n",
       "    </tr>\n",
       "    <tr>\n",
       "      <th>1</th>\n",
       "      <td>2010-12-22</td>\n",
       "      <td>11.612857</td>\n",
       "      <td>2010</td>\n",
       "      <td>12</td>\n",
       "      <td>51</td>\n",
       "      <td>22</td>\n",
       "      <td>2</td>\n",
       "      <td>0</td>\n",
       "    </tr>\n",
       "    <tr>\n",
       "      <th>2</th>\n",
       "      <td>2010-12-23</td>\n",
       "      <td>11.557143</td>\n",
       "      <td>2010</td>\n",
       "      <td>12</td>\n",
       "      <td>51</td>\n",
       "      <td>23</td>\n",
       "      <td>3</td>\n",
       "      <td>0</td>\n",
       "    </tr>\n",
       "    <tr>\n",
       "      <th>3</th>\n",
       "      <td>2010-12-27</td>\n",
       "      <td>11.595714</td>\n",
       "      <td>2010</td>\n",
       "      <td>12</td>\n",
       "      <td>52</td>\n",
       "      <td>27</td>\n",
       "      <td>0</td>\n",
       "      <td>1</td>\n",
       "    </tr>\n",
       "    <tr>\n",
       "      <th>4</th>\n",
       "      <td>2010-12-28</td>\n",
       "      <td>11.623929</td>\n",
       "      <td>2010</td>\n",
       "      <td>12</td>\n",
       "      <td>52</td>\n",
       "      <td>28</td>\n",
       "      <td>1</td>\n",
       "      <td>0</td>\n",
       "    </tr>\n",
       "    <tr>\n",
       "      <th>...</th>\n",
       "      <td>...</td>\n",
       "      <td>...</td>\n",
       "      <td>...</td>\n",
       "      <td>...</td>\n",
       "      <td>...</td>\n",
       "      <td>...</td>\n",
       "      <td>...</td>\n",
       "      <td>...</td>\n",
       "    </tr>\n",
       "    <tr>\n",
       "      <th>2764</th>\n",
       "      <td>2021-12-14</td>\n",
       "      <td>174.330002</td>\n",
       "      <td>2021</td>\n",
       "      <td>12</td>\n",
       "      <td>50</td>\n",
       "      <td>14</td>\n",
       "      <td>1</td>\n",
       "      <td>0</td>\n",
       "    </tr>\n",
       "    <tr>\n",
       "      <th>2765</th>\n",
       "      <td>2021-12-15</td>\n",
       "      <td>179.300003</td>\n",
       "      <td>2021</td>\n",
       "      <td>12</td>\n",
       "      <td>50</td>\n",
       "      <td>15</td>\n",
       "      <td>2</td>\n",
       "      <td>0</td>\n",
       "    </tr>\n",
       "    <tr>\n",
       "      <th>2766</th>\n",
       "      <td>2021-12-16</td>\n",
       "      <td>172.259995</td>\n",
       "      <td>2021</td>\n",
       "      <td>12</td>\n",
       "      <td>50</td>\n",
       "      <td>16</td>\n",
       "      <td>3</td>\n",
       "      <td>0</td>\n",
       "    </tr>\n",
       "    <tr>\n",
       "      <th>2767</th>\n",
       "      <td>2021-12-17</td>\n",
       "      <td>171.139999</td>\n",
       "      <td>2021</td>\n",
       "      <td>12</td>\n",
       "      <td>50</td>\n",
       "      <td>17</td>\n",
       "      <td>4</td>\n",
       "      <td>1</td>\n",
       "    </tr>\n",
       "    <tr>\n",
       "      <th>2768</th>\n",
       "      <td>2021-12-20</td>\n",
       "      <td>169.75</td>\n",
       "      <td>2021</td>\n",
       "      <td>12</td>\n",
       "      <td>51</td>\n",
       "      <td>20</td>\n",
       "      <td>0</td>\n",
       "      <td>1</td>\n",
       "    </tr>\n",
       "  </tbody>\n",
       "</table>\n",
       "<p>2769 rows × 8 columns</p>\n",
       "</div>"
      ],
      "text/plain": [
       "           Date       Close  year  month  week  day  dayofweek  mon_fri\n",
       "0    2010-12-21   11.578571  2010     12    51   21          1        0\n",
       "1    2010-12-22   11.612857  2010     12    51   22          2        0\n",
       "2    2010-12-23   11.557143  2010     12    51   23          3        0\n",
       "3    2010-12-27   11.595714  2010     12    52   27          0        1\n",
       "4    2010-12-28   11.623929  2010     12    52   28          1        0\n",
       "...         ...         ...   ...    ...   ...  ...        ...      ...\n",
       "2764 2021-12-14  174.330002  2021     12    50   14          1        0\n",
       "2765 2021-12-15  179.300003  2021     12    50   15          2        0\n",
       "2766 2021-12-16  172.259995  2021     12    50   16          3        0\n",
       "2767 2021-12-17  171.139999  2021     12    50   17          4        1\n",
       "2768 2021-12-20      169.75  2021     12    51   20          0        1\n",
       "\n",
       "[2769 rows x 8 columns]"
      ]
     },
     "execution_count": 8,
     "metadata": {},
     "output_type": "execute_result"
    }
   ],
   "source": [
    "new_aapl_df"
   ]
  },
  {
   "cell_type": "code",
   "execution_count": 9,
   "id": "99eab6c9",
   "metadata": {},
   "outputs": [
    {
     "name": "stdout",
     "output_type": "stream",
     "text": [
      "55.62889730173937\n"
     ]
    }
   ],
   "source": [
    "from sklearn.model_selection import train_test_split\n",
    "from statsmodels.tsa.arima_model import ARIMA\n",
    "from sklearn.metrics import mean_squared_error\n",
    "from sklearn import linear_model\n",
    "\n",
    "train = new_aapl_df[:1939]\n",
    "test = new_aapl_df[1939:]\n",
    "\n",
    "X_train = train.drop(['Close','Date'],axis=1)\n",
    "y_train = train['Close']\n",
    "\n",
    "X_test = test.drop(['Close','Date'],axis=1)\n",
    "y_test = test['Close']\n",
    "\n",
    "linear_reg = linear_model.LinearRegression()\n",
    "linear_reg.fit(X_train, y_train)\n",
    "y_pred = linear_reg.predict(X_test) \n",
    "\n",
    "\n",
    "RMSE = mean_squared_error(y_test, y_pred, squared=False)\n",
    "\n",
    "print(RMSE)"
   ]
  },
  {
   "cell_type": "code",
   "execution_count": 10,
   "id": "0de1f415",
   "metadata": {},
   "outputs": [
    {
     "name": "stderr",
     "output_type": "stream",
     "text": [
      "<ipython-input-10-b47df330c641>:1: SettingWithCopyWarning: \n",
      "A value is trying to be set on a copy of a slice from a DataFrame.\n",
      "Try using .loc[row_indexer,col_indexer] = value instead\n",
      "\n",
      "See the caveats in the documentation: https://pandas.pydata.org/pandas-docs/stable/user_guide/indexing.html#returning-a-view-versus-a-copy\n",
      "  test['Predictions'] = y_pred\n"
     ]
    }
   ],
   "source": [
    "test['Predictions'] = y_pred"
   ]
  },
  {
   "cell_type": "code",
   "execution_count": 11,
   "id": "b9b2ac57",
   "metadata": {},
   "outputs": [
    {
     "data": {
      "text/html": [
       "<div>\n",
       "<style scoped>\n",
       "    .dataframe tbody tr th:only-of-type {\n",
       "        vertical-align: middle;\n",
       "    }\n",
       "\n",
       "    .dataframe tbody tr th {\n",
       "        vertical-align: top;\n",
       "    }\n",
       "\n",
       "    .dataframe thead th {\n",
       "        text-align: right;\n",
       "    }\n",
       "</style>\n",
       "<table border=\"1\" class=\"dataframe\">\n",
       "  <thead>\n",
       "    <tr style=\"text-align: right;\">\n",
       "      <th></th>\n",
       "      <th>Date</th>\n",
       "      <th>Close</th>\n",
       "      <th>year</th>\n",
       "      <th>month</th>\n",
       "      <th>week</th>\n",
       "      <th>day</th>\n",
       "      <th>dayofweek</th>\n",
       "      <th>mon_fri</th>\n",
       "      <th>Predictions</th>\n",
       "    </tr>\n",
       "  </thead>\n",
       "  <tbody>\n",
       "    <tr>\n",
       "      <th>1939</th>\n",
       "      <td>2018-09-05</td>\n",
       "      <td>56.717499</td>\n",
       "      <td>2018</td>\n",
       "      <td>9</td>\n",
       "      <td>36</td>\n",
       "      <td>5</td>\n",
       "      <td>2</td>\n",
       "      <td>0</td>\n",
       "      <td>41.484013</td>\n",
       "    </tr>\n",
       "    <tr>\n",
       "      <th>1940</th>\n",
       "      <td>2018-09-06</td>\n",
       "      <td>55.775002</td>\n",
       "      <td>2018</td>\n",
       "      <td>9</td>\n",
       "      <td>36</td>\n",
       "      <td>6</td>\n",
       "      <td>3</td>\n",
       "      <td>0</td>\n",
       "      <td>41.488454</td>\n",
       "    </tr>\n",
       "    <tr>\n",
       "      <th>1941</th>\n",
       "      <td>2018-09-07</td>\n",
       "      <td>55.325001</td>\n",
       "      <td>2018</td>\n",
       "      <td>9</td>\n",
       "      <td>36</td>\n",
       "      <td>7</td>\n",
       "      <td>4</td>\n",
       "      <td>1</td>\n",
       "      <td>41.475807</td>\n",
       "    </tr>\n",
       "    <tr>\n",
       "      <th>1942</th>\n",
       "      <td>2018-09-10</td>\n",
       "      <td>54.5825</td>\n",
       "      <td>2018</td>\n",
       "      <td>9</td>\n",
       "      <td>37</td>\n",
       "      <td>10</td>\n",
       "      <td>0</td>\n",
       "      <td>1</td>\n",
       "      <td>41.572007</td>\n",
       "    </tr>\n",
       "    <tr>\n",
       "      <th>1943</th>\n",
       "      <td>2018-09-11</td>\n",
       "      <td>55.962502</td>\n",
       "      <td>2018</td>\n",
       "      <td>9</td>\n",
       "      <td>37</td>\n",
       "      <td>11</td>\n",
       "      <td>1</td>\n",
       "      <td>0</td>\n",
       "      <td>41.593537</td>\n",
       "    </tr>\n",
       "    <tr>\n",
       "      <th>...</th>\n",
       "      <td>...</td>\n",
       "      <td>...</td>\n",
       "      <td>...</td>\n",
       "      <td>...</td>\n",
       "      <td>...</td>\n",
       "      <td>...</td>\n",
       "      <td>...</td>\n",
       "      <td>...</td>\n",
       "      <td>...</td>\n",
       "    </tr>\n",
       "    <tr>\n",
       "      <th>2764</th>\n",
       "      <td>2021-12-14</td>\n",
       "      <td>174.330002</td>\n",
       "      <td>2021</td>\n",
       "      <td>12</td>\n",
       "      <td>50</td>\n",
       "      <td>14</td>\n",
       "      <td>1</td>\n",
       "      <td>0</td>\n",
       "      <td>54.936141</td>\n",
       "    </tr>\n",
       "    <tr>\n",
       "      <th>2765</th>\n",
       "      <td>2021-12-15</td>\n",
       "      <td>179.300003</td>\n",
       "      <td>2021</td>\n",
       "      <td>12</td>\n",
       "      <td>50</td>\n",
       "      <td>15</td>\n",
       "      <td>2</td>\n",
       "      <td>0</td>\n",
       "      <td>54.940582</td>\n",
       "    </tr>\n",
       "    <tr>\n",
       "      <th>2766</th>\n",
       "      <td>2021-12-16</td>\n",
       "      <td>172.259995</td>\n",
       "      <td>2021</td>\n",
       "      <td>12</td>\n",
       "      <td>50</td>\n",
       "      <td>16</td>\n",
       "      <td>3</td>\n",
       "      <td>0</td>\n",
       "      <td>54.945024</td>\n",
       "    </tr>\n",
       "    <tr>\n",
       "      <th>2767</th>\n",
       "      <td>2021-12-17</td>\n",
       "      <td>171.139999</td>\n",
       "      <td>2021</td>\n",
       "      <td>12</td>\n",
       "      <td>50</td>\n",
       "      <td>17</td>\n",
       "      <td>4</td>\n",
       "      <td>1</td>\n",
       "      <td>54.932377</td>\n",
       "    </tr>\n",
       "    <tr>\n",
       "      <th>2768</th>\n",
       "      <td>2021-12-20</td>\n",
       "      <td>169.75</td>\n",
       "      <td>2021</td>\n",
       "      <td>12</td>\n",
       "      <td>51</td>\n",
       "      <td>20</td>\n",
       "      <td>0</td>\n",
       "      <td>1</td>\n",
       "      <td>55.028577</td>\n",
       "    </tr>\n",
       "  </tbody>\n",
       "</table>\n",
       "<p>830 rows × 9 columns</p>\n",
       "</div>"
      ],
      "text/plain": [
       "           Date       Close  year  month  week  day  dayofweek  mon_fri  \\\n",
       "1939 2018-09-05   56.717499  2018      9    36    5          2        0   \n",
       "1940 2018-09-06   55.775002  2018      9    36    6          3        0   \n",
       "1941 2018-09-07   55.325001  2018      9    36    7          4        1   \n",
       "1942 2018-09-10     54.5825  2018      9    37   10          0        1   \n",
       "1943 2018-09-11   55.962502  2018      9    37   11          1        0   \n",
       "...         ...         ...   ...    ...   ...  ...        ...      ...   \n",
       "2764 2021-12-14  174.330002  2021     12    50   14          1        0   \n",
       "2765 2021-12-15  179.300003  2021     12    50   15          2        0   \n",
       "2766 2021-12-16  172.259995  2021     12    50   16          3        0   \n",
       "2767 2021-12-17  171.139999  2021     12    50   17          4        1   \n",
       "2768 2021-12-20      169.75  2021     12    51   20          0        1   \n",
       "\n",
       "      Predictions  \n",
       "1939    41.484013  \n",
       "1940    41.488454  \n",
       "1941    41.475807  \n",
       "1942    41.572007  \n",
       "1943    41.593537  \n",
       "...           ...  \n",
       "2764    54.936141  \n",
       "2765    54.940582  \n",
       "2766    54.945024  \n",
       "2767    54.932377  \n",
       "2768    55.028577  \n",
       "\n",
       "[830 rows x 9 columns]"
      ]
     },
     "execution_count": 11,
     "metadata": {},
     "output_type": "execute_result"
    }
   ],
   "source": [
    "test"
   ]
  },
  {
   "cell_type": "code",
   "execution_count": 12,
   "id": "d7f578d1",
   "metadata": {},
   "outputs": [
    {
     "data": {
      "text/plain": [
       "[<matplotlib.lines.Line2D at 0x2f3396f4b50>,\n",
       " <matplotlib.lines.Line2D at 0x2f3396f4c10>]"
      ]
     },
     "execution_count": 12,
     "metadata": {},
     "output_type": "execute_result"
    },
    {
     "data": {
      "image/png": "[encoded data removed]",
      "text/plain": [
       "<Figure size 432x288 with 1 Axes>"
      ]
     },
     "metadata": {
      "needs_background": "light"
     },
     "output_type": "display_data"
    }
   ],
   "source": [
    "plt.plot(train['Close'])\n",
    "plt.plot(test[['Close','Predictions']])"
   ]
  },
  {
   "cell_type": "markdown",
   "id": "fd5a5bdb",
   "metadata": {},
   "source": [
    "In this case the linear regression model wasn't very good at predicting the spike in aapl's stock price. I think we need to use a different model to better predict to change in prices."
   ]
  },
  {
   "cell_type": "markdown",
   "id": "cf3337e6",
   "metadata": {},
   "source": [
    "Came across the autoregressive ARIMA Model, to see if this time series data is suitable for a autoregressive model, \n",
    "we need to see if there is linear shape to the lag plot. We use a lag plot instead of a regular plot so that outliers\n",
    "are are more distinct and to check for the randomness of the data."
   ]
  },
  {
   "cell_type": "code",
   "execution_count": 13,
   "id": "380ec0d5",
   "metadata": {},
   "outputs": [
    {
     "data": {
      "image/png": "[encoded data removed]",
      "text/plain": [
       "<Figure size 432x288 with 1 Axes>"
      ]
     },
     "metadata": {
      "needs_background": "light"
     },
     "output_type": "display_data"
    }
   ],
   "source": [
    "plt.figure()\n",
    "lag_plot(aapl_data['Open'], lag=3)\n",
    "plt.title('Apple Stock - Autocorrelation plot with lag = 3')\n",
    "plt.show()"
   ]
  },
  {
   "cell_type": "code",
   "execution_count": 14,
   "id": "15fa6a2c",
   "metadata": {},
   "outputs": [
    {
     "ename": "SyntaxError",
     "evalue": "invalid syntax (<ipython-input-14-713e15ca354e>, line 1)",
     "output_type": "error",
     "traceback": [
      "\u001b[1;36m  File \u001b[1;32m\"<ipython-input-14-713e15ca354e>\"\u001b[1;36m, line \u001b[1;32m1\u001b[0m\n\u001b[1;33m    In this case there is a linear shape so we can try applying the ARIMA Model\u001b[0m\n\u001b[1;37m       ^\u001b[0m\n\u001b[1;31mSyntaxError\u001b[0m\u001b[1;31m:\u001b[0m invalid syntax\n"
     ]
    }
   ],
   "source": [
    "In this case there is a linear shape so we can try applying the ARIMA Model"
   ]
  },
  {
   "cell_type": "markdown",
   "id": "2b4004e3",
   "metadata": {},
   "source": [
    "Implementing autoregressive ARIMA Model"
   ]
  },
  {
   "cell_type": "code",
   "execution_count": 15,
   "id": "73480282",
   "metadata": {},
   "outputs": [
    {
     "name": "stdout",
     "output_type": "stream",
     "text": [
      "Requirement already satisfied: pmdarima in c:\\users\\josep\\anaconda3\\lib\\site-packages (1.8.4)\n",
      "Requirement already satisfied: Cython!=0.29.18,>=0.29 in c:\\users\\josep\\anaconda3\\lib\\site-packages (from pmdarima) (0.29.23)\n",
      "Requirement already satisfied: setuptools!=50.0.0,>=38.6.0 in c:\\users\\josep\\anaconda3\\lib\\site-packages (from pmdarima) (52.0.0.post20210125)\n",
      "Requirement already satisfied: scikit-learn>=0.22 in c:\\users\\josep\\anaconda3\\lib\\site-packages (from pmdarima) (0.24.1)\n",
      "Requirement already satisfied: scipy>=1.3.2 in c:\\users\\josep\\anaconda3\\lib\\site-packages (from pmdarima) (1.6.2)\n",
      "Requirement already satisfied: statsmodels!=0.12.0,>=0.11 in c:\\users\\josep\\anaconda3\\lib\\site-packages (from pmdarima) (0.12.2)\n",
      "Requirement already satisfied: urllib3 in c:\\users\\josep\\anaconda3\\lib\\site-packages (from pmdarima) (1.26.4)\n",
      "Requirement already satisfied: joblib>=0.11 in c:\\users\\josep\\anaconda3\\lib\\site-packages (from pmdarima) (1.0.1)\n",
      "Requirement already satisfied: pandas>=0.19 in c:\\users\\josep\\anaconda3\\lib\\site-packages (from pmdarima) (1.2.4)\n",
      "Requirement already satisfied: numpy>=1.19.3 in c:\\users\\josep\\anaconda3\\lib\\site-packages (from pmdarima) (1.20.1)\n",
      "Requirement already satisfied: python-dateutil>=2.7.3 in c:\\users\\josep\\anaconda3\\lib\\site-packages (from pandas>=0.19->pmdarima) (2.8.1)\n",
      "Requirement already satisfied: pytz>=2017.3 in c:\\users\\josep\\anaconda3\\lib\\site-packages (from pandas>=0.19->pmdarima) (2021.1)\n",
      "Requirement already satisfied: six>=1.5 in c:\\users\\josep\\anaconda3\\lib\\site-packages (from python-dateutil>=2.7.3->pandas>=0.19->pmdarima) (1.15.0)\n",
      "Requirement already satisfied: threadpoolctl>=2.0.0 in c:\\users\\josep\\anaconda3\\lib\\site-packages (from scikit-learn>=0.22->pmdarima) (2.1.0)\n",
      "Requirement already satisfied: patsy>=0.5 in c:\\users\\josep\\anaconda3\\lib\\site-packages (from statsmodels!=0.12.0,>=0.11->pmdarima) (0.5.1)\n"
     ]
    }
   ],
   "source": [
    "!pip install pmdarima"
   ]
  },
  {
   "cell_type": "code",
   "execution_count": 16,
   "id": "a9fdb4f2",
   "metadata": {},
   "outputs": [
    {
     "name": "stdout",
     "output_type": "stream",
     "text": [
      "Performing stepwise search to minimize aic\n",
      " ARIMA(2,1,2)(0,0,0)[0] intercept   : AIC=1922.220, Time=1.11 sec\n",
      " ARIMA(0,1,0)(0,0,0)[0] intercept   : AIC=1931.876, Time=0.14 sec\n",
      " ARIMA(1,1,0)(0,0,0)[0] intercept   : AIC=1928.292, Time=0.13 sec\n",
      " ARIMA(0,1,1)(0,0,0)[0] intercept   : AIC=1928.072, Time=0.30 sec\n",
      " ARIMA(0,1,0)(0,0,0)[0]             : AIC=1936.615, Time=0.08 sec\n",
      " ARIMA(1,1,2)(0,0,0)[0] intercept   : AIC=1931.489, Time=0.67 sec\n",
      " ARIMA(2,1,1)(0,0,0)[0] intercept   : AIC=1931.393, Time=0.86 sec\n",
      " ARIMA(3,1,2)(0,0,0)[0] intercept   : AIC=1924.183, Time=1.14 sec\n",
      " ARIMA(2,1,3)(0,0,0)[0] intercept   : AIC=1923.856, Time=1.27 sec\n",
      " ARIMA(1,1,1)(0,0,0)[0] intercept   : AIC=1929.788, Time=0.40 sec\n",
      " ARIMA(1,1,3)(0,0,0)[0] intercept   : AIC=1931.612, Time=0.89 sec\n",
      " ARIMA(3,1,1)(0,0,0)[0] intercept   : AIC=1932.135, Time=0.70 sec\n",
      " ARIMA(3,1,3)(0,0,0)[0] intercept   : AIC=1926.218, Time=1.54 sec\n",
      " ARIMA(2,1,2)(0,0,0)[0]             : AIC=1926.503, Time=0.65 sec\n",
      "\n",
      "Best model:  ARIMA(2,1,2)(0,0,0)[0] intercept\n",
      "Total fit time: 9.911 seconds\n"
     ]
    }
   ],
   "source": [
    "from pmdarima import auto_arima\n",
    "\n",
    "train = new_aapl_df[:1939]\n",
    "test = new_aapl_df[1939:]\n",
    "\n",
    "training = train['Close']\n",
    "validation = test['Close']\n",
    "\n",
    "model = auto_arima(training, trace=True)\n",
    "model.fit(training)\n",
    "\n",
    "forecast = model.predict(n_periods=830)\n",
    "forecast = pd.DataFrame(forecast,index = test.index,columns=['Prediction'])"
   ]
  },
  {
   "cell_type": "code",
   "execution_count": 17,
   "id": "8b3ef534",
   "metadata": {},
   "outputs": [
    {
     "data": {
      "text/plain": [
       "[<matplotlib.lines.Line2D at 0x2f33a183280>]"
      ]
     },
     "execution_count": 17,
     "metadata": {},
     "output_type": "execute_result"
    },
    {
     "data": {
      "image/png": "[encoded data removed]",
      "text/plain": [
       "<Figure size 432x288 with 1 Axes>"
      ]
     },
     "metadata": {
      "needs_background": "light"
     },
     "output_type": "display_data"
    }
   ],
   "source": [
    "plt.plot(train['Close'])\n",
    "plt.plot(test['Close'])\n",
    "plt.plot(forecast['Prediction'])"
   ]
  },
  {
   "cell_type": "code",
   "execution_count": 18,
   "id": "41afe76d",
   "metadata": {},
   "outputs": [],
   "source": [
    "amrs_data = amrs_data.sort_index(ascending=True, axis=0)\n",
    "new_amrs_data = pd.DataFrame(index=range(0,len(aapl_data)),columns=['Date', 'Close'])\n",
    "\n",
    "for i in range(0,len(amrs_data)):\n",
    "     new_amrs_data['Date'][i] = amrs_data['Date'][i]\n",
    "     new_amrs_data['Close'][i] = amrs_data['Close'][i]"
   ]
  },
  {
   "cell_type": "code",
   "execution_count": 19,
   "id": "c12ff30f",
   "metadata": {},
   "outputs": [],
   "source": [
    "new_amrs_data['Date'] = pd.to_datetime(new_amrs_data['Date'])"
   ]
  },
  {
   "cell_type": "code",
   "execution_count": 20,
   "id": "a64f13c3",
   "metadata": {},
   "outputs": [
    {
     "name": "stderr",
     "output_type": "stream",
     "text": [
      "<ipython-input-20-ac2ad8284f77>:3: FutureWarning: Series.dt.weekofyear and Series.dt.week have been deprecated.  Please use Series.dt.isocalendar().week instead.\n",
      "  new_amrs_data['week'] = new_amrs_data['Date'].dt.week\n"
     ]
    }
   ],
   "source": [
    "new_amrs_data['year'] = new_amrs_data['Date'].dt.year\n",
    "new_amrs_data['month'] = new_amrs_data['Date'].dt.month\n",
    "new_amrs_data['week'] = new_amrs_data['Date'].dt.week\n",
    "new_amrs_data['day'] = new_amrs_data['Date'].dt.day\n",
    "new_amrs_data['dayofweek'] = new_amrs_data['Date'].dt.dayofweek"
   ]
  },
  {
   "cell_type": "code",
   "execution_count": 21,
   "id": "fda059ec",
   "metadata": {},
   "outputs": [
    {
     "name": "stdout",
     "output_type": "stream",
     "text": [
      "142.08208254291918\n"
     ]
    }
   ],
   "source": [
    "from sklearn.model_selection import train_test_split\n",
    "from statsmodels.tsa.arima_model import ARIMA\n",
    "from sklearn.metrics import mean_squared_error\n",
    "from sklearn import linear_model\n",
    "\n",
    "train = new_amrs_data[:1939]\n",
    "test = new_amrs_data[1939:]\n",
    "\n",
    "X_train = train.drop(['Close','Date'],axis=1)\n",
    "y_train = train['Close']\n",
    "\n",
    "X_test = test.drop(['Close','Date'],axis=1)\n",
    "y_test = test['Close']\n",
    "\n",
    "linear_reg = linear_model.LinearRegression()\n",
    "linear_reg.fit(X_train, y_train)\n",
    "y_pred = linear_reg.predict(X_test) \n",
    "\n",
    "\n",
    "RMSE = mean_squared_error(y_test, y_pred, squared=False)\n",
    "\n",
    "print(RMSE)"
   ]
  },
  {
   "cell_type": "code",
   "execution_count": 22,
   "id": "489a6bd4",
   "metadata": {},
   "outputs": [
    {
     "name": "stderr",
     "output_type": "stream",
     "text": [
      "<ipython-input-22-b47df330c641>:1: SettingWithCopyWarning: \n",
      "A value is trying to be set on a copy of a slice from a DataFrame.\n",
      "Try using .loc[row_indexer,col_indexer] = value instead\n",
      "\n",
      "See the caveats in the documentation: https://pandas.pydata.org/pandas-docs/stable/user_guide/indexing.html#returning-a-view-versus-a-copy\n",
      "  test['Predictions'] = y_pred\n"
     ]
    }
   ],
   "source": [
    "test['Predictions'] = y_pred"
   ]
  },
  {
   "cell_type": "code",
   "execution_count": 23,
   "id": "997bc6f4",
   "metadata": {},
   "outputs": [
    {
     "data": {
      "text/plain": [
       "[<matplotlib.lines.Line2D at 0x2f33a176b80>,\n",
       " <matplotlib.lines.Line2D at 0x2f33de57f70>]"
      ]
     },
     "execution_count": 23,
     "metadata": {},
     "output_type": "execute_result"
    },
    {
     "data": {
      "image/png": "[encoded data removed]",
      "text/plain": [
       "<Figure size 432x288 with 1 Axes>"
      ]
     },
     "metadata": {
      "needs_background": "light"
     },
     "output_type": "display_data"
    }
   ],
   "source": [
    "plt.plot(train['Close'])\n",
    "plt.plot(test[['Close','Predictions']])"
   ]
  }
 ],
 "metadata": {
  "kernelspec": {
   "display_name": "Python 3",
   "language": "python",
   "name": "python3"
  },
  "language_info": {
   "codemirror_mode": {
    "name": "ipython",
    "version": 3
   },
   "file_extension": ".py",
   "mimetype": "text/x-python",
   "name": "python",
   "nbconvert_exporter": "python",
   "pygments_lexer": "ipython3",
   "version": "3.8.8"
  }
 },
 "nbformat": 4,
 "nbformat_minor": 5
}
